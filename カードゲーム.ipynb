{
 "cells": [
  {
   "cell_type": "code",
   "execution_count": 1,
   "metadata": {},
   "outputs": [],
   "source": [
    "import rlcard\n",
    "from rlcard.agents import RandomAgent"
   ]
  },
  {
   "cell_type": "code",
   "execution_count": 2,
   "metadata": {},
   "outputs": [],
   "source": [
    "env = rlcard.make('leduc-holdem')"
   ]
  },
  {
   "cell_type": "code",
   "execution_count": 5,
   "metadata": {},
   "outputs": [
    {
     "name": "stdout",
     "output_type": "stream",
     "text": [
      "Number of actions:  4\n",
      "Number of players:  2\n",
      "Shape of state:  [[36], [36]]\n",
      "Shape of action:  [None, None]\n"
     ]
    }
   ],
   "source": [
    "print(\"Number of actions: \", env.num_actions)\n",
    "print(\"Number of players: \", env.num_players)\n",
    "print(\"Shape of state: \", env.state_shape)\n",
    "print(\"Shape of action: \", env.action_shape)"
   ]
  }
 ],
 "metadata": {
  "kernelspec": {
   "display_name": "RLCard",
   "language": "python",
   "name": "python3"
  },
  "language_info": {
   "codemirror_mode": {
    "name": "ipython",
    "version": 3
   },
   "file_extension": ".py",
   "mimetype": "text/x-python",
   "name": "python",
   "nbconvert_exporter": "python",
   "pygments_lexer": "ipython3",
   "version": "3.12.3"
  }
 },
 "nbformat": 4,
 "nbformat_minor": 2
}
